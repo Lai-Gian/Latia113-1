{
  "nbformat": 4,
  "nbformat_minor": 0,
  "metadata": {
    "colab": {
      "provenance": [],
      "gpuType": "T4"
    },
    "kernelspec": {
      "name": "python3",
      "display_name": "Python 3"
    },
    "language_info": {
      "name": "python"
    },
    "accelerator": "GPU"
  },
  "cells": [
    {
      "cell_type": "markdown",
      "source": [
        "從0開始數到第九個數為8"
      ],
      "metadata": {
        "id": "pGlvnT6VnU-d"
      }
    },
    {
      "cell_type": "code",
      "execution_count": null,
      "metadata": {
        "colab": {
          "base_uri": "https://localhost:8080/"
        },
        "id": "Coy7BCgRQKdw",
        "outputId": "dd1953ff-cf51-4f64-95c2-5c0ab767a5c8"
      },
      "outputs": [
        {
          "output_type": "stream",
          "name": "stdout",
          "text": [
            "8\n"
          ]
        }
      ],
      "source": [
        "a=\"0123456789abcdef\"\n",
        "print(a[8])"
      ]
    },
    {
      "cell_type": "markdown",
      "source": [
        "假設"
      ],
      "metadata": {
        "id": "Zj-Xc0HMzHpc"
      }
    },
    {
      "cell_type": "code",
      "source": [
        "a=2\n",
        "b=3\n",
        "if a>b:\n",
        "    print(\"hello\")\n",
        "print(\"OK\")"
      ],
      "metadata": {
        "colab": {
          "base_uri": "https://localhost:8080/"
        },
        "id": "R_JIjw-rpwBF",
        "outputId": "81cf3059-541c-4690-f544-a55bd4477364"
      },
      "execution_count": null,
      "outputs": [
        {
          "output_type": "stream",
          "name": "stdout",
          "text": [
            "OK\n"
          ]
        }
      ]
    },
    {
      "cell_type": "markdown",
      "source": [
        "沒有加else,fu,且改成a=3,b=2,三個字會一起出現"
      ],
      "metadata": {
        "id": "TtVEXRb_zjp8"
      }
    },
    {
      "cell_type": "code",
      "source": [
        "a = 2\n",
        "b = 3\n",
        "if a>b:\n",
        "  print(\"hello\")\n",
        "else:\n",
        "  print(\"world\")\n",
        "print(\"OK\")"
      ],
      "metadata": {
        "colab": {
          "base_uri": "https://localhost:8080/"
        },
        "id": "Rkb9UUc3qdt6",
        "outputId": "a5309038-7889-4225-8e14-5de0c7c7d117"
      },
      "execution_count": null,
      "outputs": [
        {
          "output_type": "stream",
          "name": "stdout",
          "text": [
            "world\n",
            "OK\n"
          ]
        }
      ]
    },
    {
      "cell_type": "code",
      "source": [
        "a = 2\n",
        "b = 3\n",
        "if a<b:\n",
        "  print(\"a<b)\")\n",
        "  if a==1:\n",
        "    print(\"a=1\")\n",
        "  elif a==2:\n",
        "    print(\"a=2\")\n",
        "  elif a==3:\n",
        "    print(\"a=3\")\n",
        "elif a>b:\n",
        "  print(\"a>b\")\n",
        "else:\n",
        "  print(\"a=b\")\n",
        "print(\"OK\")"
      ],
      "metadata": {
        "colab": {
          "base_uri": "https://localhost:8080/"
        },
        "id": "t6D6SCjzrE9k",
        "outputId": "0b658072-4426-4494-e0cb-e937a743620c"
      },
      "execution_count": null,
      "outputs": [
        {
          "output_type": "stream",
          "name": "stdout",
          "text": [
            "a<b)\n",
            "a=2\n",
            "OK\n"
          ]
        }
      ]
    },
    {
      "cell_type": "code",
      "source": [
        "i=[]\n",
        "for t in range(10):\n",
        "  t+=1\n",
        "  i.append(t)\n",
        "i"
      ],
      "metadata": {
        "colab": {
          "base_uri": "https://localhost:8080/"
        },
        "id": "VFBTfgxwtNvy",
        "outputId": "467ba47c-2093-45d2-9bfe-a6e7b1c2703f"
      },
      "execution_count": null,
      "outputs": [
        {
          "output_type": "execute_result",
          "data": {
            "text/plain": [
              "[1, 2, 3, 4, 5, 6, 7, 8, 9, 10]"
            ]
          },
          "metadata": {},
          "execution_count": 28
        }
      ]
    },
    {
      "cell_type": "code",
      "source": [
        "a = 2\n",
        "b = 3\n",
        "c = 0\n",
        "if a>b or a<c and a==2 or a==4:\n",
        "  print(\"OK1\")\n",
        "else:\n",
        "  print(\"xxx\")"
      ],
      "metadata": {
        "colab": {
          "base_uri": "https://localhost:8080/"
        },
        "id": "HIR-_kBhuxzJ",
        "outputId": "74f3b872-87f7-47ba-a162-e18530eadf2e"
      },
      "execution_count": null,
      "outputs": [
        {
          "output_type": "stream",
          "name": "stdout",
          "text": [
            "xxx\n"
          ]
        }
      ]
    },
    {
      "cell_type": "code",
      "source": [
        "for i in \"abc\":\n",
        "  print(i)"
      ],
      "metadata": {
        "colab": {
          "base_uri": "https://localhost:8080/"
        },
        "id": "_hxieNEmviwa",
        "outputId": "6ba8f702-5798-461a-aa40-a822b3c6fd38"
      },
      "execution_count": null,
      "outputs": [
        {
          "output_type": "stream",
          "name": "stdout",
          "text": [
            "a\n",
            "b\n",
            "c\n"
          ]
        }
      ]
    },
    {
      "cell_type": "code",
      "source": [
        "for a in [\"x\",\"y\",\"z\"]:\n",
        "  for b in [1,2,3]:\n",
        "    print(b)\n",
        "  print(a)"
      ],
      "metadata": {
        "colab": {
          "base_uri": "https://localhost:8080/"
        },
        "id": "ECDf43hovzPT",
        "outputId": "304666c4-ecc4-43e2-b7e7-c16862416ab9"
      },
      "execution_count": null,
      "outputs": [
        {
          "output_type": "stream",
          "name": "stdout",
          "text": [
            "1\n",
            "2\n",
            "3\n",
            "x\n",
            "1\n",
            "2\n",
            "3\n",
            "y\n",
            "1\n",
            "2\n",
            "3\n",
            "z\n"
          ]
        }
      ]
    },
    {
      "cell_type": "code",
      "source": [
        "for a in [\"x\",\"y\",\"z\"]:\n",
        "  for b in [1,2,3]:\n",
        "    print(f\"{a}{b}\")"
      ],
      "metadata": {
        "colab": {
          "base_uri": "https://localhost:8080/"
        },
        "id": "4Mb32zVQwuyy",
        "outputId": "5e765ad4-099e-40df-94bd-0296d6e7f1b6"
      },
      "execution_count": null,
      "outputs": [
        {
          "output_type": "stream",
          "name": "stdout",
          "text": [
            "x1\n",
            "x2\n",
            "x3\n",
            "y1\n",
            "y2\n",
            "y3\n",
            "z1\n",
            "z2\n",
            "z3\n"
          ]
        }
      ]
    },
    {
      "cell_type": "code",
      "source": [
        "try:\n",
        "  a = input('輸入數字:')\n",
        "  print(a+1)\n",
        "except:\n",
        "  pass\n",
        "print(\"hello\")"
      ],
      "metadata": {
        "colab": {
          "base_uri": "https://localhost:8080/"
        },
        "id": "NtZB_FpdxQ9j",
        "outputId": "8f3c39cf-c0d1-4800-842a-4050e6447c56"
      },
      "execution_count": null,
      "outputs": [
        {
          "output_type": "stream",
          "name": "stdout",
          "text": [
            "輸入數字:6\n",
            "hello\n"
          ]
        }
      ]
    },
    {
      "cell_type": "code",
      "source": [
        "a=[]\n",
        "for i in range(1,10):\n",
        "  a.append(i*i)\n",
        "print(a)"
      ],
      "metadata": {
        "colab": {
          "base_uri": "https://localhost:8080/"
        },
        "id": "a3hhF36_x2sz",
        "outputId": "2a2aa3fd-77c1-4720-9c3d-231d0aff54fb"
      },
      "execution_count": null,
      "outputs": [
        {
          "output_type": "stream",
          "name": "stdout",
          "text": [
            "[1, 4, 9, 16, 25, 36, 49, 64, 81]\n"
          ]
        }
      ]
    },
    {
      "cell_type": "code",
      "source": [
        "b=[j*j for j in range(1,10)]\n",
        "print(b)"
      ],
      "metadata": {
        "colab": {
          "base_uri": "https://localhost:8080/"
        },
        "id": "htX-yHnCyQDs",
        "outputId": "4cf14c94-9793-4349-d5d3-a8c442d1741f"
      },
      "execution_count": null,
      "outputs": [
        {
          "output_type": "stream",
          "name": "stdout",
          "text": [
            "[1, 4, 9, 16, 25, 36, 49, 64, 81]\n"
          ]
        }
      ]
    },
    {
      "cell_type": "code",
      "source": [
        "a = 'hello world, I am oxxo, how are you?'\n",
        "b=a.split(',')\n",
        "c=a.split(' ')\n",
        "d=a.split()\n",
        "print(b)\n",
        "print(c)\n",
        "print(d)"
      ],
      "metadata": {
        "colab": {
          "base_uri": "https://localhost:8080/"
        },
        "id": "Tq6ZJL7VcZnA",
        "outputId": "fff538bb-206d-4478-e122-19e9851d47fa"
      },
      "execution_count": null,
      "outputs": [
        {
          "output_type": "stream",
          "name": "stdout",
          "text": [
            "['hello world', ' I am oxxo', ' how are you?']\n",
            "['hello', 'world,', 'I', 'am', 'oxxo,', 'how', 'are', 'you?']\n",
            "['hello', 'world,', 'I', 'am', 'oxxo,', 'how', 'are', 'you?']\n"
          ]
        }
      ]
    },
    {
      "cell_type": "code",
      "source": [
        "a = dict(name='oxxo', age=18, eat=['apple','banana'])\n",
        "print(a)\n",
        "print(type(a))"
      ],
      "metadata": {
        "colab": {
          "base_uri": "https://localhost:8080/"
        },
        "id": "UZoK7dCmfRz7",
        "outputId": "59765ddf-f789-49c3-9273-d099e26d957d"
      },
      "execution_count": null,
      "outputs": [
        {
          "output_type": "stream",
          "name": "stdout",
          "text": [
            "{'name': 'oxxo', 'age': 18, 'eat': ['apple', 'banana']}\n",
            "<class 'dict'>\n"
          ]
        }
      ]
    },
    {
      "cell_type": "code",
      "source": [
        "t = ('apple','banana','orange','grap')\n",
        "a,b,c,d = t\n",
        "print(a)\n",
        "print(b)\n",
        "print(c)\n",
        "print(d)"
      ],
      "metadata": {
        "colab": {
          "base_uri": "https://localhost:8080/"
        },
        "id": "ZYng6Nt-dPjH",
        "outputId": "05f49b0c-444e-4f34-a50c-0d06c8746cb0"
      },
      "execution_count": null,
      "outputs": [
        {
          "output_type": "stream",
          "name": "stdout",
          "text": [
            "apple\n",
            "banana\n",
            "orange\n",
            "grap\n"
          ]
        }
      ]
    },
    {
      "cell_type": "code",
      "source": [
        "a = set()\n",
        "b = set([1,2,3,4,5,1,2,3,4,5])\n",
        "c = set({'x':1,'y':2,'z':3})\n",
        "d = set('hello')\n",
        "print(a)\n",
        "print(b)\n",
        "print(c)\n",
        "print(d)"
      ],
      "metadata": {
        "colab": {
          "base_uri": "https://localhost:8080/"
        },
        "id": "d5Mf9RjehMwa",
        "outputId": "c086d40a-a53b-494a-dd16-02bab52085e0"
      },
      "execution_count": null,
      "outputs": [
        {
          "output_type": "stream",
          "name": "stdout",
          "text": [
            "set()\n",
            "{1, 2, 3, 4, 5}\n",
            "{'y', 'x', 'z'}\n",
            "{'h', 'l', 'o', 'e'}\n"
          ]
        }
      ]
    },
    {
      "cell_type": "code",
      "source": [
        "t = ('apple','banana','orange','grap')\n",
        "print(t[0])\n",
        "print(t[1])\n",
        "print(t[2])\n",
        "print(t[3])"
      ],
      "metadata": {
        "colab": {
          "base_uri": "https://localhost:8080/"
        },
        "id": "5xRLAO7meAM0",
        "outputId": "272ba9bf-7e5f-4461-b65f-7636efe2c4e3"
      },
      "execution_count": null,
      "outputs": [
        {
          "output_type": "stream",
          "name": "stdout",
          "text": [
            "apple\n",
            "banana\n",
            "orange\n",
            "grap\n"
          ]
        }
      ]
    },
    {
      "cell_type": "code",
      "source": [
        "a='hello world, I am oxxo, how are you?'\n",
        "print(len(a))"
      ],
      "metadata": {
        "colab": {
          "base_uri": "https://localhost:8080/"
        },
        "id": "CtIf7wdjXL7N",
        "outputId": "bc133ffb-7e75-4522-cea1-9298a7e881dd"
      },
      "execution_count": null,
      "outputs": [
        {
          "output_type": "stream",
          "name": "stdout",
          "text": [
            "36\n"
          ]
        }
      ]
    },
    {
      "cell_type": "code",
      "source": [
        "a = ['apple','banana','orange']\n",
        "b = [1,2,3,4,5]\n",
        "c = ['apple',1,2,3,['dog','cat']]\n",
        "d = list('apple')\n",
        "print(a,b,c,d)"
      ],
      "metadata": {
        "colab": {
          "base_uri": "https://localhost:8080/"
        },
        "id": "vX3bN__qYWmz",
        "outputId": "4fb006d9-7313-4253-b578-addd25750477"
      },
      "execution_count": null,
      "outputs": [
        {
          "output_type": "stream",
          "name": "stdout",
          "text": [
            "['apple', 'banana', 'orange'] [1, 2, 3, 4, 5] ['apple', 1, 2, 3, ['dog', 'cat']] ['a', 'p', 'p', 'l', 'e']\n"
          ]
        }
      ]
    }
  ]
}