{
  "nbformat": 4,
  "nbformat_minor": 0,
  "metadata": {
    "colab": {
      "provenance": []
    },
    "kernelspec": {
      "name": "python3",
      "display_name": "Python 3"
    },
    "language_info": {
      "name": "python"
    }
  },
  "cells": [
    {
      "cell_type": "markdown",
      "source": [
        "1. 正相關看A\n",
        "2. P<0.1指數據90%可信\n",
        "  P<0.05指數據95%可信\n",
        "  P<0.01指數據99%可信"
      ],
      "metadata": {
        "id": "a978dqkw8ArR"
      }
    },
    {
      "cell_type": "code",
      "execution_count": 1,
      "metadata": {
        "colab": {
          "base_uri": "https://localhost:8080/"
        },
        "id": "c4uYiEWLf7A9",
        "outputId": "427ad30e-2d8f-4e2e-893a-01d53a49a4b2"
      },
      "outputs": [
        {
          "output_type": "stream",
          "name": "stdout",
          "text": [
            "                            OLS Regression Results                            \n",
            "==============================================================================\n",
            "Dep. Variable:                      B   R-squared:                       0.004\n",
            "Model:                            OLS   Adj. R-squared:                 -0.006\n",
            "Method:                 Least Squares   F-statistic:                    0.3936\n",
            "Date:                Thu, 07 Nov 2024   Prob (F-statistic):              0.532\n",
            "Time:                        09:05:10   Log-Likelihood:                -151.36\n",
            "No. Observations:                 100   AIC:                             306.7\n",
            "Df Residuals:                      98   BIC:                             311.9\n",
            "Df Model:                           1                                         \n",
            "Covariance Type:            nonrobust                                         \n",
            "==============================================================================\n",
            "                 coef    std err          t      P>|t|      [0.025      0.975]\n",
            "------------------------------------------------------------------------------\n",
            "const          0.0748      0.111      0.674      0.502      -0.146       0.295\n",
            "A              0.0671      0.107      0.627      0.532      -0.145       0.279\n",
            "==============================================================================\n",
            "Omnibus:                        1.217   Durbin-Watson:                   2.072\n",
            "Prob(Omnibus):                  0.544   Jarque-Bera (JB):                0.707\n",
            "Skew:                           0.062   Prob(JB):                        0.702\n",
            "Kurtosis:                       3.393   Cond. No.                         1.05\n",
            "==============================================================================\n",
            "\n",
            "Notes:\n",
            "[1] Standard Errors assume that the covariance matrix of the errors is correctly specified.\n"
          ]
        }
      ],
      "source": [
        "import pandas as pd\n",
        "import statsmodels.api as sm\n",
        "import numpy as np\n",
        "\n",
        "df2 = pd.DataFrame(np.random.randn(100, 4), columns=list(\"ABCD\"))\n",
        "X = df2['A']\n",
        "y = df2['B']\n",
        "# Add a constant to the model (for the intercept term)\n",
        "X = sm.add_constant(X)\n",
        "X\n",
        "# Fit the regression model\n",
        "model = sm.OLS(y, X).fit()\n",
        "\n",
        "# Display the regression results\n",
        "print(model.summary())"
      ]
    },
    {
      "cell_type": "markdown",
      "source": [
        "複迴歸 y= a +b1X1+b2X2+...+E"
      ],
      "metadata": {
        "id": "zdQhs7j974NR"
      }
    },
    {
      "cell_type": "code",
      "source": [
        "import pandas as pd\n",
        "import statsmodels.api as sm\n",
        "\n",
        "# 假設 df2 是你的 DataFrame，並且它的第一列是應變數 y，其餘是自變數 X1, X2, ...\n",
        "\n",
        "# 準備自變數（X）和應變數（y）\n",
        "# 這裡假設 X1 和 X2 是 df2 的第 1 和第 2 列（索引從 0 開始）\n",
        "X = df2.iloc[:, 1:3]  # 選取第 2 和第 3 列作為自變數\n",
        "y = df2.iloc[:, 0]    # 選取第 1 列作為應變數\n",
        "\n",
        "# 加入常數項（截距）到自變數 X 中\n",
        "X = sm.add_constant(X)\n",
        "\n",
        "# 擬合回歸模型\n",
        "model = sm.OLS(y, X).fit()\n",
        "\n",
        "# 顯示模型結果\n",
        "print(model.summary())"
      ],
      "metadata": {
        "colab": {
          "base_uri": "https://localhost:8080/"
        },
        "id": "l_H8L91f7pfI",
        "outputId": "fb224836-129b-4a25-fd45-4c3b1cfe5c25"
      },
      "execution_count": 3,
      "outputs": [
        {
          "output_type": "stream",
          "name": "stdout",
          "text": [
            "                            OLS Regression Results                            \n",
            "==============================================================================\n",
            "Dep. Variable:                      A   R-squared:                       0.014\n",
            "Model:                            OLS   Adj. R-squared:                 -0.006\n",
            "Method:                 Least Squares   F-statistic:                    0.6861\n",
            "Date:                Thu, 07 Nov 2024   Prob (F-statistic):              0.506\n",
            "Time:                        09:22:34   Log-Likelihood:                -145.00\n",
            "No. Observations:                 100   AIC:                             296.0\n",
            "Df Residuals:                      97   BIC:                             303.8\n",
            "Df Model:                           2                                         \n",
            "Covariance Type:            nonrobust                                         \n",
            "==============================================================================\n",
            "                 coef    std err          t      P>|t|      [0.025      0.975]\n",
            "------------------------------------------------------------------------------\n",
            "const         -0.0369      0.105     -0.352      0.726      -0.245       0.171\n",
            "B              0.0628      0.095      0.660      0.511      -0.126       0.252\n",
            "C             -0.1155      0.117     -0.989      0.325      -0.347       0.116\n",
            "==============================================================================\n",
            "Omnibus:                        1.018   Durbin-Watson:                   2.275\n",
            "Prob(Omnibus):                  0.601   Jarque-Bera (JB):                0.810\n",
            "Skew:                           0.220   Prob(JB):                        0.667\n",
            "Kurtosis:                       3.010   Cond. No.                         1.24\n",
            "==============================================================================\n",
            "\n",
            "Notes:\n",
            "[1] Standard Errors assume that the covariance matrix of the errors is correctly specified.\n"
          ]
        }
      ]
    },
    {
      "cell_type": "code",
      "source": [
        "from sklearn.linear_model import LinearRegression\n",
        "\n",
        "# 假設 df2 是你的 DataFrame，並且它的第一列是應變數 y，其餘是自變數 X1, X2, ...\n",
        "\n",
        "# 準備自變數（X）和應變數（y）\n",
        "X = df2.iloc[:, 1:3]  # 選取第 2 和第 3 列作為自變數\n",
        "y = df2.iloc[:, 0]    # 選取第 1 列作為應變數\n",
        "\n",
        "# 初始化回歸模型\n",
        "model = LinearRegression()\n",
        "\n",
        "# 擬合回歸模型\n",
        "model.fit(X, y)\n",
        "\n",
        "# 顯示回歸係數（包括截距）\n",
        "print(\"截距 (a):\", model.intercept_)\n",
        "print(\"回歸係數 (b1, b2):\", model.coef_)"
      ],
      "metadata": {
        "colab": {
          "base_uri": "https://localhost:8080/"
        },
        "id": "XB5cn--Z7Ic3",
        "outputId": "21473b45-711e-4377-eaa5-98f022ab39c8"
      },
      "execution_count": 2,
      "outputs": [
        {
          "output_type": "stream",
          "name": "stdout",
          "text": [
            "截距 (a): -0.036931701708516264\n",
            "回歸係數 (b1, b2): [ 0.06278895 -0.11550156]\n"
          ]
        }
      ]
    }
  ]
}